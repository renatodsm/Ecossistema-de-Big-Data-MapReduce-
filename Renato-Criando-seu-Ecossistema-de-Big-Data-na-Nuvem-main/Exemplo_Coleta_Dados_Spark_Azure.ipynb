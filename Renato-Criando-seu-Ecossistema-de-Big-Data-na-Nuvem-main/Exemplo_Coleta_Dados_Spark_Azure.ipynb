{
  "nbformat": 4,
  "nbformat_minor": 0,
  "metadata": {
    "colab": {
      "name": "Exemplo_Coleta_Dados_Spark.ipynb",
      "provenance": [],
      "include_colab_link": true
    },
    "kernelspec": {
      "name": "python3",
      "display_name": "Python 3"
    },
    "language_info": {
      "name": "python"
    }
  },
  "cells": [
    {
      "cell_type": "markdown",
      "metadata": {
        "id": "view-in-github",
        "colab_type": "text"
      },
      "source": [
        "<a href=\"https://colab.research.google.com/drive/renato/Criando-seu-Ecossistema-de-Big-Data-na-Nuvem/blob/main/Exemplo_Coleta_Dados_Spark_Azure.ipynb\" target=\"_parent\"><img src=\"https://colab.research.google.com/assets/colab-badge.svg\" alt=\"Open In Colab\"/></a>"
      ]
    },
    {
      "cell_type": "markdown",
      "source": [
        "## INSTALAÇÃO DAS BIBLIOTECAS AZURE-STORAGE-BLOB E PYSPARK"
      ],
      "metadata": {
        "id": "EC92xJ5l-I1r"
      }
    },
    {
      "cell_type": "code",
      "execution_count": null,
      "metadata": {
        "id": "Au-MSsg1-AFI",
        "colab": {
          "base_uri": "https://localhost:8080/"
        },
        "outputId": "3cc79784-5201-446e-a167-221a0a48418e"
      },
      "outputs": [
        {
          "output_type": "stream",
          "name": "stdout",
          "text": [
            "Collecting azure-storage-blob\n",
            "  Downloading azure_storage_blob-12.9.0-py2.py3-none-any.whl (356 kB)\n",
            "\u001b[K     |████████████████████████████████| 356 kB 3.2 MB/s \n",
            "\u001b[?25hCollecting azure-core<2.0.0,>=1.10.0\n",
            "  Downloading azure_core-1.23.0-py3-none-any.whl (179 kB)\n",
            "\u001b[K     |████████████████████████████████| 179 kB 39.8 MB/s \n",
            "\u001b[?25hCollecting cryptography>=2.1.4\n",
            "  Downloading cryptography-36.0.1-cp36-abi3-manylinux_2_24_x86_64.whl (3.6 MB)\n",
            "\u001b[K     |████████████████████████████████| 3.6 MB 49.4 MB/s \n",
            "\u001b[?25hCollecting msrest>=0.6.21\n",
            "  Downloading msrest-0.6.21-py2.py3-none-any.whl (85 kB)\n",
            "\u001b[K     |████████████████████████████████| 85 kB 2.2 MB/s \n",
            "\u001b[?25hRequirement already satisfied: requests>=2.18.4 in /usr/local/lib/python3.7/dist-packages (from azure-core<2.0.0,>=1.10.0->azure-storage-blob) (2.23.0)\n",
            "Collecting typing-extensions>=4.0.1\n",
            "  Downloading typing_extensions-4.1.1-py3-none-any.whl (26 kB)\n",
            "Requirement already satisfied: six>=1.11.0 in /usr/local/lib/python3.7/dist-packages (from azure-core<2.0.0,>=1.10.0->azure-storage-blob) (1.15.0)\n",
            "Requirement already satisfied: cffi>=1.12 in /usr/local/lib/python3.7/dist-packages (from cryptography>=2.1.4->azure-storage-blob) (1.15.0)\n",
            "Requirement already satisfied: pycparser in /usr/local/lib/python3.7/dist-packages (from cffi>=1.12->cryptography>=2.1.4->azure-storage-blob) (2.21)\n",
            "Requirement already satisfied: certifi>=2017.4.17 in /usr/local/lib/python3.7/dist-packages (from msrest>=0.6.21->azure-storage-blob) (2021.10.8)\n",
            "Requirement already satisfied: requests-oauthlib>=0.5.0 in /usr/local/lib/python3.7/dist-packages (from msrest>=0.6.21->azure-storage-blob) (1.3.1)\n",
            "Collecting isodate>=0.6.0\n",
            "  Downloading isodate-0.6.1-py2.py3-none-any.whl (41 kB)\n",
            "\u001b[K     |████████████████████████████████| 41 kB 568 kB/s \n",
            "\u001b[?25hRequirement already satisfied: idna<3,>=2.5 in /usr/local/lib/python3.7/dist-packages (from requests>=2.18.4->azure-core<2.0.0,>=1.10.0->azure-storage-blob) (2.10)\n",
            "Requirement already satisfied: chardet<4,>=3.0.2 in /usr/local/lib/python3.7/dist-packages (from requests>=2.18.4->azure-core<2.0.0,>=1.10.0->azure-storage-blob) (3.0.4)\n",
            "Requirement already satisfied: urllib3!=1.25.0,!=1.25.1,<1.26,>=1.21.1 in /usr/local/lib/python3.7/dist-packages (from requests>=2.18.4->azure-core<2.0.0,>=1.10.0->azure-storage-blob) (1.24.3)\n",
            "Requirement already satisfied: oauthlib>=3.0.0 in /usr/local/lib/python3.7/dist-packages (from requests-oauthlib>=0.5.0->msrest>=0.6.21->azure-storage-blob) (3.2.0)\n",
            "Installing collected packages: typing-extensions, isodate, msrest, cryptography, azure-core, azure-storage-blob\n",
            "  Attempting uninstall: typing-extensions\n",
            "    Found existing installation: typing-extensions 3.10.0.2\n",
            "    Uninstalling typing-extensions-3.10.0.2:\n",
            "      Successfully uninstalled typing-extensions-3.10.0.2\n",
            "\u001b[31mERROR: pip's dependency resolver does not currently take into account all the packages that are installed. This behaviour is the source of the following dependency conflicts.\n",
            "tensorflow 2.8.0 requires tf-estimator-nightly==2.8.0.dev2021122109, which is not installed.\n",
            "arviz 0.11.4 requires typing-extensions<4,>=3.7.4.3, but you have typing-extensions 4.1.1 which is incompatible.\u001b[0m\n",
            "Successfully installed azure-core-1.23.0 azure-storage-blob-12.9.0 cryptography-36.0.1 isodate-0.6.1 msrest-0.6.21 typing-extensions-4.1.1\n"
          ]
        }
      ],
      "source": [
        "pip install azure-storage-blob"
      ]
    },
    {
      "cell_type": "code",
      "source": [
        "pip install pyspark"
      ],
      "metadata": {
        "id": "rZ02n-aP-Lv0",
        "colab": {
          "base_uri": "https://localhost:8080/"
        },
        "outputId": "844c81f4-0e12-4d50-d25f-0755f3244a08"
      },
      "execution_count": null,
      "outputs": [
        {
          "output_type": "stream",
          "name": "stdout",
          "text": [
            "Collecting pyspark\n",
            "  Downloading pyspark-3.2.1.tar.gz (281.4 MB)\n",
            "\u001b[K     |████████████████████████████████| 281.4 MB 29 kB/s \n",
            "\u001b[?25hCollecting py4j==0.10.9.3\n",
            "  Downloading py4j-0.10.9.3-py2.py3-none-any.whl (198 kB)\n",
            "\u001b[K     |████████████████████████████████| 198 kB 46.0 MB/s \n",
            "\u001b[?25hBuilding wheels for collected packages: pyspark\n",
            "  Building wheel for pyspark (setup.py) ... \u001b[?25l\u001b[?25hdone\n",
            "  Created wheel for pyspark: filename=pyspark-3.2.1-py2.py3-none-any.whl size=281853642 sha256=bbd504ecd19519822f1299217dc52c874b604e82cec1b5419d13dac11b3062d5\n",
            "  Stored in directory: /root/.cache/pip/wheels/9f/f5/07/7cd8017084dce4e93e84e92efd1e1d5334db05f2e83bcef74f\n",
            "Successfully built pyspark\n",
            "Installing collected packages: py4j, pyspark\n",
            "Successfully installed py4j-0.10.9.3 pyspark-3.2.1\n"
          ]
        }
      ]
    },
    {
      "cell_type": "code",
      "source": [
        "import requests\n",
        "import azure.storage.blob"
      ],
      "metadata": {
        "id": "TtVTHTWh-eQi"
      },
      "execution_count": null,
      "outputs": []
    },
    {
      "cell_type": "code",
      "source": [
        "def download(url_arquivo, nome_arquivo):\n",
        "  req = requests.get(url_arquivo)\n",
        "  conteudo = req.content\n",
        "  arquivo = open(nome_arquivo, 'wb')\n",
        "  arquivo.write(conteudo)\n",
        "  arquivo.close()"
      ],
      "metadata": {
        "id": "CmANDhAu-T59"
      },
      "execution_count": null,
      "outputs": []
    },
    {
      "cell_type": "code",
      "source": [
        "url_ordem_compra = 'https://datalakeaula1377299.blob.core.windows.net/datalake/raw-zone/olist/olist_orders_dataset/olist_orders_dataset.csv'\n",
        "url_cliente ='https://datalakeaula1377299.blob.core.windows.net/datalake/raw-zone/olist/olist_customers_dataset/olist_customers_dataset.csv'\n",
        "nome_arquivo_ordem_compra = 'olist_orders_dataset.csv'\n",
        "nome_arquivo_cliente = 'olist_customers_dataset.csv'\n",
        "download(url_ordem_compra, nome_arquivo_ordem_compra)\n",
        "download(url_cliente, nome_arquivo_cliente)"
      ],
      "metadata": {
        "id": "azZciBFj-jfJ"
      },
      "execution_count": null,
      "outputs": []
    },
    {
      "cell_type": "code",
      "source": [
        "from pyspark.sql import SparkSession, SQLContext\n",
        "from pyspark.sql.types import *\n",
        "from pyspark.sql.functions import *"
      ],
      "metadata": {
        "id": "VkY9_7mm-v77"
      },
      "execution_count": null,
      "outputs": []
    },
    {
      "cell_type": "code",
      "source": [
        "spark = SparkSession.builder.getOrCreate()"
      ],
      "metadata": {
        "id": "BYYlsqpy_T_k"
      },
      "execution_count": null,
      "outputs": []
    },
    {
      "cell_type": "code",
      "source": [
        "schema_orders = StructType([ \\\n",
        "    StructField('order_id', StringType(), True), \\\n",
        "    StructField('customer_id', StringType(), True), \\\n",
        "    StructField('order_status', StringType(), True), \\\n",
        "    StructField('order_purchase_timestamp', TimestampType(), True), \\\n",
        "    StructField('order_approved_at', TimestampType(), True), \\\n",
        "    StructField('order_delivered_carrier_date', TimestampType(), True), \\\n",
        "    StructField('order_delivered_customer_date', TimestampType(), True), \\\n",
        "    StructField('order_estimated_delivery_date', TimestampType(), True) \\\n",
        "])"
      ],
      "metadata": {
        "id": "Dd8zGvSmCz5R"
      },
      "execution_count": null,
      "outputs": []
    },
    {
      "cell_type": "code",
      "source": [
        "df_orders = spark.read.csv(nome_arquivo_ordem_compra, header=True, inferSchema=True, schema=schema_orders)"
      ],
      "metadata": {
        "id": "searUYKu_nRb"
      },
      "execution_count": null,
      "outputs": []
    },
    {
      "cell_type": "code",
      "source": [
        "df_clientes = spark.read.csv(nome_arquivo_cliente, header=True, inferSchema=True)"
      ],
      "metadata": {
        "id": "vwzSlq4uIDlq"
      },
      "execution_count": null,
      "outputs": []
    },
    {
      "cell_type": "code",
      "source": [
        "df_clientes.show(truncate=False, n=5)"
      ],
      "metadata": {
        "colab": {
          "base_uri": "https://localhost:8080/"
        },
        "id": "Qt62ixUtIJWj",
        "outputId": "7e542ed9-6175-4edd-dccb-3ef68226761d"
      },
      "execution_count": null,
      "outputs": [
        {
          "output_type": "stream",
          "name": "stdout",
          "text": [
            "+--------------------------------+--------------------------------+------------------------+---------------------+--------------+---------------+\n",
            "|customer_id                     |customer_unique_id              |customer_zip_code_prefix|customer_city        |customer_state|customer_region|\n",
            "+--------------------------------+--------------------------------+------------------------+---------------------+--------------+---------------+\n",
            "|06b8999e2fba1a1fbc88172c00ba8bc7|861eff4711a542e4b93843c6dd7febb0|14409                   |franca               |SP            |Sudeste        |\n",
            "|18955e83d337fd6b2def6b18a428ac77|290c77bc529b7ac935b93aa66c333dc3|9790                    |sao bernardo do campo|SP            |Sudeste        |\n",
            "|4e7b3e00288586ebd08712fdd0374a03|060e732b5b29e8181a18229c7b0b2b5e|1151                    |sao paulo            |SP            |Sudeste        |\n",
            "|b2b6027bc5c5109e529d4dc6358b12c3|259dac757896d24d7702b9acbbff3f3c|8775                    |mogi das cruzes      |SP            |Sudeste        |\n",
            "|4f2d8ab171c80ec8364f7c12e35b23ad|345ecd01c38d18a9036ed96c73b8d066|13056                   |campinas             |SP            |Sudeste        |\n",
            "+--------------------------------+--------------------------------+------------------------+---------------------+--------------+---------------+\n",
            "only showing top 5 rows\n",
            "\n"
          ]
        }
      ]
    },
    {
      "cell_type": "code",
      "source": [
        "df_orders.show(truncate=False, n=3)"
      ],
      "metadata": {
        "id": "wv4wlA7fBrB9",
        "colab": {
          "base_uri": "https://localhost:8080/"
        },
        "outputId": "931ffd0e-5524-4f54-d186-19e564c86d8a"
      },
      "execution_count": null,
      "outputs": [
        {
          "output_type": "stream",
          "name": "stdout",
          "text": [
            "+--------------------------------+--------------------------------+------------+------------------------+-------------------+----------------------------+-----------------------------+-----------------------------+\n",
            "|order_id                        |customer_id                     |order_status|order_purchase_timestamp|order_approved_at  |order_delivered_carrier_date|order_delivered_customer_date|order_estimated_delivery_date|\n",
            "+--------------------------------+--------------------------------+------------+------------------------+-------------------+----------------------------+-----------------------------+-----------------------------+\n",
            "|e481f51cbdc54678b7cc49136f2d6af7|9ef432eb6251297304e76186b10a928d|delivered   |2017-10-02 10:56:33     |2017-10-02 11:07:15|2017-10-04 19:55:00         |2017-10-10 21:25:13          |2017-10-18 00:00:00          |\n",
            "|53cdb2fc8bc7dce0b6741e2150273451|b0830fb4747a6c6d20dea0b8c802d7ef|delivered   |2018-07-24 20:41:37     |2018-07-26 03:24:27|2018-07-26 14:31:00         |2018-08-07 15:27:45          |2018-08-13 00:00:00          |\n",
            "|47770eb9100c2d0c44946d9cf07ec65d|41ce2a54c0b03bf3443c3d931a367089|delivered   |2018-08-08 08:38:49     |2018-08-08 08:55:23|2018-08-08 13:50:00         |2018-08-17 18:06:29          |2018-09-04 00:00:00          |\n",
            "+--------------------------------+--------------------------------+------------+------------------------+-------------------+----------------------------+-----------------------------+-----------------------------+\n",
            "only showing top 3 rows\n",
            "\n"
          ]
        }
      ]
    },
    {
      "cell_type": "code",
      "source": [
        "df_orders.printSchema()"
      ],
      "metadata": {
        "id": "ynb6vNj6AbJr",
        "colab": {
          "base_uri": "https://localhost:8080/"
        },
        "outputId": "6c33540d-d056-4fc7-df5c-5e6fc0e6fa15"
      },
      "execution_count": null,
      "outputs": [
        {
          "output_type": "stream",
          "name": "stdout",
          "text": [
            "root\n",
            " |-- order_id: string (nullable = true)\n",
            " |-- customer_id: string (nullable = true)\n",
            " |-- order_status: string (nullable = true)\n",
            " |-- order_purchase_timestamp: timestamp (nullable = true)\n",
            " |-- order_approved_at: timestamp (nullable = true)\n",
            " |-- order_delivered_carrier_date: timestamp (nullable = true)\n",
            " |-- order_delivered_customer_date: timestamp (nullable = true)\n",
            " |-- order_estimated_delivery_date: timestamp (nullable = true)\n",
            "\n"
          ]
        }
      ]
    },
    {
      "cell_type": "code",
      "source": [
        "# df_orders.agg({\"order_purchase_timestamp\": \"max\"}).show()"
      ],
      "metadata": {
        "id": "8-An7SoUGJCb"
      },
      "execution_count": null,
      "outputs": []
    },
    {
      "cell_type": "code",
      "source": [
        "df_orders.createOrReplaceTempView(\"df_orders\")"
      ],
      "metadata": {
        "id": "PNI5ZJcJHBxT"
      },
      "execution_count": null,
      "outputs": []
    },
    {
      "cell_type": "code",
      "source": [
        "df_clientes.createOrReplaceTempView(\"df_clientes\")"
      ],
      "metadata": {
        "id": "jlMDWf0CIkN9"
      },
      "execution_count": null,
      "outputs": []
    },
    {
      "cell_type": "code",
      "source": [
        "df_clientes = spark.sql(\"\"\"\n",
        "SELECT  *,\n",
        "        CASE\n",
        "          WHEN customer_state IN ('MG', 'SP', 'RJ', 'ES') THEN 'Sudeste'\n",
        "          WHEN customer_state IN ('RS', 'SC', 'PR') THEN 'Sul'\n",
        "          WHEN customer_state IN ('DF', 'GO', 'MS', 'MT') THEN 'Centro-Oeste'\n",
        "          WHEN customer_state IN ('AM', 'AP', 'RR', 'RO', 'PA', 'AC', 'TO') THEN 'Norte'\n",
        "          ELSE 'Nordeste'\n",
        "        END AS customer_region\n",
        "FROM    df_clientes\n",
        "\"\"\")"
      ],
      "metadata": {
        "id": "CWpvPdfRImrj"
      },
      "execution_count": null,
      "outputs": []
    },
    {
      "cell_type": "code",
      "source": [
        "df_clientes.createOrReplaceTempView(\"df_clientes_2\")"
      ],
      "metadata": {
        "id": "0cgT9KnZJ2JC"
      },
      "execution_count": null,
      "outputs": []
    },
    {
      "cell_type": "code",
      "source": [
        "spark.sql(\"\"\"\n",
        "SELECT    customer_region,\n",
        "          customer_state,\n",
        "          COUNT(*) AS quantidade_clientes\n",
        "FROM      df_clientes_2\n",
        "GROUP BY  ROLLUP(customer_region,\n",
        "          customer_state)\n",
        "ORDER BY  customer_region,\n",
        "          quantidade_clientes desc\n",
        "\"\"\").show(truncate=False, n=1000)"
      ],
      "metadata": {
        "colab": {
          "base_uri": "https://localhost:8080/"
        },
        "id": "Tr8D-7n1JLZl",
        "outputId": "a31f9222-51d5-4618-a715-539a41603117"
      },
      "execution_count": null,
      "outputs": [
        {
          "output_type": "stream",
          "name": "stdout",
          "text": [
            "+---------------+--------------+-------------------+\n",
            "|customer_region|customer_state|quantidade_clientes|\n",
            "+---------------+--------------+-------------------+\n",
            "|null           |null          |99441              |\n",
            "|Centro-Oeste   |null          |5782               |\n",
            "|Centro-Oeste   |DF            |2140               |\n",
            "|Centro-Oeste   |GO            |2020               |\n",
            "|Centro-Oeste   |MT            |907                |\n",
            "|Centro-Oeste   |MS            |715                |\n",
            "|Nordeste       |null          |9394               |\n",
            "|Nordeste       |BA            |3380               |\n",
            "|Nordeste       |PE            |1652               |\n",
            "|Nordeste       |CE            |1336               |\n",
            "|Nordeste       |MA            |747                |\n",
            "|Nordeste       |PB            |536                |\n",
            "|Nordeste       |PI            |495                |\n",
            "|Nordeste       |RN            |485                |\n",
            "|Nordeste       |AL            |413                |\n",
            "|Nordeste       |SE            |350                |\n",
            "|Norte          |null          |1851               |\n",
            "|Norte          |PA            |975                |\n",
            "|Norte          |TO            |280                |\n",
            "|Norte          |RO            |253                |\n",
            "|Norte          |AM            |148                |\n",
            "|Norte          |AC            |81                 |\n",
            "|Norte          |AP            |68                 |\n",
            "|Norte          |RR            |46                 |\n",
            "|Sudeste        |null          |68266              |\n",
            "|Sudeste        |SP            |41746              |\n",
            "|Sudeste        |RJ            |12852              |\n",
            "|Sudeste        |MG            |11635              |\n",
            "|Sudeste        |ES            |2033               |\n",
            "|Sul            |null          |14148              |\n",
            "|Sul            |RS            |5466               |\n",
            "|Sul            |PR            |5045               |\n",
            "|Sul            |SC            |3637               |\n",
            "+---------------+--------------+-------------------+\n",
            "\n"
          ]
        }
      ]
    }
  ]
}